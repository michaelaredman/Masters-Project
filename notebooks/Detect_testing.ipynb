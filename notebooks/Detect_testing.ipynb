{
 "cells": [
  {
   "cell_type": "code",
   "execution_count": 18,
   "metadata": {
    "collapsed": false
   },
   "outputs": [],
   "source": [
    "import pymc3 as pm\n",
    "import scipy\n",
    "import numpy as np\n",
    "import pandas as pd\n",
    "import theano\n",
    "import theano.tensor as T\n",
    "\n",
    "theano.config.compute_test_value = 'raise'\n",
    "#theano.config.gcc.cxxflags = \"-fbracket-depth=16000\" # default is 256\n",
    "\n",
    "def load_data():\n",
    "    temp_expected = pd.read_csv('~/4th Year/project/data/csv/expected.csv')\n",
    "    E = np.array(temp_expected['x'])\n",
    "    \n",
    "    temp_sim = pd.read_csv('~/4th Year/project/data/csv/simulated.csv')\n",
    "    temp_times = temp_sim[['Time1', 'Time2', 'Time3', 'Time4', 'Time5', 'Time6', 'Time7', 'Time8', 'Time9', 'Time10', 'Time11', 'Time12', 'Time13', 'Time14', 'Time15']]\n",
    "    observed_values = np.matrix(temp_times)\n",
    "    \n",
    "    adj = pd.read_csv('/Users/Mike/4th Year/project/data/csv/adjacency.csv', index_col=0)\n",
    "    W = np.matrix(adj)\n",
    "    \n",
    "    numRegions = observed_values.shape[0] #number of regions\n",
    "    nt = observed_values.shape[1] #number of time points\n",
    "    Q = np.diag(np.ones(nt-1), k=1) #'adjacency matrix' in time\n",
    "    \n",
    "    #making the inverse covariance matricies for the CAR models (ignoring their variances)\n",
    "    alpha = 0.75 #this was 1 in the model but that makes the covariance matrix singular\n",
    "    D = np.diag(np.array(W.sum(0))[0]) #diag(d_1,..,d_numRegions) with d_i the number of neighbours of region i\n",
    "    Tau_v_unscaled = np.array(D - alpha*W)\n",
    "    Tau_gamma_unscaled = np.identity(n=nt) - Q\n",
    "\n",
    "    return numRegions, nt, E, Tau_v_unscaled, Tau_gamma_unscaled, observed_values\n",
    "\n",
    "prob_z = 0.95 #probability of a region following the area specific model\n",
    "\n",
    "numRegions, nt, E, Tau_v_unscaled, Tau_gamma_unscaled, observed_values = load_data()\n"
   ]
  },
  {
   "cell_type": "code",
   "execution_count": 21,
   "metadata": {
    "collapsed": false
   },
   "outputs": [
    {
     "name": "stderr",
     "output_type": "stream",
     "text": [
      "INFO (theano.gof.compilelock): Refreshing lock /Users/Mike/.theano/compiledir_Darwin-15.0.0-x86_64-i386-64bit-i386-3.5.2-64/lock_dir/lock\n",
      "INFO:theano.gof.compilelock:Refreshing lock /Users/Mike/.theano/compiledir_Darwin-15.0.0-x86_64-i386-64bit-i386-3.5.2-64/lock_dir/lock\n"
     ]
    }
   ],
   "source": [
    "model = pm.Model()\n",
    "\n",
    "numRegions = 30\n",
    "nt = 3\n",
    "\n",
    "with model:\n",
    "    \n",
    "    spatial_sd = pm.Flat('spatial_sd')\n",
    "    \n",
    "    spatial_dev = np.empty(shape=numRegions, dtype=object)\n",
    "    mu = np.empty(shape=(numRegions, nt), dtype=object)\n",
    "    for i in range(numRegions):\n",
    "        spatial_dev[i] = pm.HalfNormal('spatial_{}'.format(i), sd=spatial_sd)\n",
    "        for t in range(nt):\n",
    "            mu[i, t] = E[i]*spatial_dev[i]\n",
    "        \n",
    "    observed = np.empty(shape=(numRegions, nt), dtype=object)\n",
    "    for i in range(numRegions):\n",
    "        for t in range(nt):\n",
    "            observed[i, t] = pm.Poisson('observed_{}_{}'.format(i,t), mu = mu[i,t], observed=observed_values[i,t])"
   ]
  },
  {
   "cell_type": "code",
   "execution_count": 22,
   "metadata": {
    "collapsed": false
   },
   "outputs": [
    {
     "name": "stderr",
     "output_type": "stream",
     "text": [
      "INFO (theano.gof.compilelock): Refreshing lock /Users/Mike/.theano/compiledir_Darwin-15.0.0-x86_64-i386-64bit-i386-3.5.2-64/lock_dir/lock\n",
      "INFO:theano.gof.compilelock:Refreshing lock /Users/Mike/.theano/compiledir_Darwin-15.0.0-x86_64-i386-64bit-i386-3.5.2-64/lock_dir/lock\n",
      "INFO (theano.gof.compilelock): Refreshing lock /Users/Mike/.theano/compiledir_Darwin-15.0.0-x86_64-i386-64bit-i386-3.5.2-64/lock_dir/lock\n",
      "INFO:theano.gof.compilelock:Refreshing lock /Users/Mike/.theano/compiledir_Darwin-15.0.0-x86_64-i386-64bit-i386-3.5.2-64/lock_dir/lock\n",
      "INFO (theano.gof.compilelock): Refreshing lock /Users/Mike/.theano/compiledir_Darwin-15.0.0-x86_64-i386-64bit-i386-3.5.2-64/lock_dir/lock\n",
      "INFO:theano.gof.compilelock:Refreshing lock /Users/Mike/.theano/compiledir_Darwin-15.0.0-x86_64-i386-64bit-i386-3.5.2-64/lock_dir/lock\n"
     ]
    },
    {
     "name": "stdout",
     "output_type": "stream",
     "text": [
      "Optimization terminated successfully.\n",
      "         Current function value: 10000000000000000159028911097599180468360808563945281389781327557747838772170381060813469985856815104.000000\n",
      "         Iterations: 0\n",
      "         Function evaluations: 1\n",
      "         Gradient evaluations: 1\n"
     ]
    },
    {
     "name": "stderr",
     "output_type": "stream",
     "text": [
      "/Users/Mike/anaconda/lib/python3.5/site-packages/theano/gradient.py:537: UserWarning: grad method was asked to compute the gradient with respect to a variable that is not part of the computational graph of the cost, or is used only by a non-differentiable operator: spatial_sd\n",
      "  handle_disconnected(elem)\n",
      "/Users/Mike/anaconda/lib/python3.5/site-packages/theano/gradient.py:563: UserWarning: grad method was asked to compute the gradient with respect to a variable that is not part of the computational graph of the cost, or is used only by a non-differentiable operator: <DisconnectedType>\n",
      "  handle_disconnected(rval[i])\n"
     ]
    },
    {
     "ename": "ValueError",
     "evalue": "Optimization error: max, logp or dlogp at max have non-finite values. Some values may be outside of distribution support. max: {'spatial_4_log_': array(-inf), 'spatial_18_log_': array(-inf), 'spatial_13_log_': array(-inf), 'spatial_3_log_': array(-inf), 'spatial_21_log_': array(-inf), 'spatial_8_log_': array(-inf), 'spatial_10_log_': array(-inf), 'spatial_5_log_': array(-inf), 'spatial_2_log_': array(-inf), 'spatial_14_log_': array(-inf), 'spatial_23_log_': array(-inf), 'spatial_16_log_': array(-inf), 'spatial_29_log_': array(-inf), 'spatial_28_log_': array(-inf), 'spatial_6_log_': array(-inf), 'spatial_15_log_': array(-inf), 'spatial_26_log_': array(-inf), 'spatial_11_log_': array(-inf), 'spatial_9_log_': array(-inf), 'spatial_12_log_': array(-inf), 'spatial_22_log_': array(-inf), 'spatial_27_log_': array(-inf), 'spatial_25_log_': array(-inf), 'spatial_19_log_': array(-inf), 'spatial_1_log_': array(-inf), 'spatial_7_log_': array(-inf), 'spatial_sd': array(0.0), 'spatial_0_log_': array(-inf), 'spatial_24_log_': array(-inf), 'spatial_20_log_': array(-inf), 'spatial_17_log_': array(-inf)} logp: array(-inf) dlogp: array([  0.,  nan,  nan,  nan,  nan,  nan,  nan,  nan,  nan,  nan,  nan,\n        nan,  nan,  nan,  nan,  nan,  nan,  nan,  nan,  nan,  nan,  nan,\n        nan,  nan,  nan,  nan,  nan,  nan,  nan,  nan,  nan])Check that 1) you don't have hierarchical parameters, these will lead to points with infinite density. 2) your distribution logp's are properly specified. Specific issues: \nspatial_29_log_.value bad: -inf\nspatial_29_log_.logp bad: -inf\nspatial_29_log_.dlogp bad: [ nan   0.]\nspatial_28_log_.value bad: -inf\nspatial_28_log_.logp bad: -inf\nspatial_28_log_.dlogp bad: [ nan   0.]\nspatial_27_log_.value bad: -inf\nspatial_27_log_.logp bad: -inf\nspatial_27_log_.dlogp bad: [ nan   0.]\nspatial_26_log_.value bad: -inf\nspatial_26_log_.logp bad: -inf\nspatial_26_log_.dlogp bad: [ nan   0.]\nspatial_25_log_.value bad: -inf\nspatial_25_log_.logp bad: -inf\nspatial_25_log_.dlogp bad: [ nan   0.]\nspatial_24_log_.value bad: -inf\nspatial_24_log_.logp bad: -inf\nspatial_24_log_.dlogp bad: [ nan   0.]\nspatial_23_log_.value bad: -inf\nspatial_23_log_.logp bad: -inf\nspatial_23_log_.dlogp bad: [ nan   0.]\nspatial_22_log_.value bad: -inf\nspatial_22_log_.logp bad: -inf\nspatial_22_log_.dlogp bad: [ nan   0.]\nspatial_21_log_.value bad: -inf\nspatial_21_log_.logp bad: -inf\nspatial_21_log_.dlogp bad: [ nan   0.]\nspatial_20_log_.value bad: -inf\nspatial_20_log_.logp bad: -inf\nspatial_20_log_.dlogp bad: [ nan   0.]\nspatial_19_log_.value bad: -inf\nspatial_19_log_.logp bad: -inf\nspatial_19_log_.dlogp bad: [ nan   0.]\nspatial_18_log_.value bad: -inf\nspatial_18_log_.logp bad: -inf\nspatial_18_log_.dlogp bad: [ nan   0.]\nspatial_17_log_.value bad: -inf\nspatial_17_log_.logp bad: -inf\nspatial_17_log_.dlogp bad: [ nan   0.]\nspatial_16_log_.value bad: -inf\nspatial_16_log_.logp bad: -inf\nspatial_16_log_.dlogp bad: [ nan   0.]\nspatial_15_log_.value bad: -inf\nspatial_15_log_.logp bad: -inf\nspatial_15_log_.dlogp bad: [ nan   0.]\nspatial_14_log_.value bad: -inf\nspatial_14_log_.logp bad: -inf\nspatial_14_log_.dlogp bad: [ nan   0.]\nspatial_13_log_.value bad: -inf\nspatial_13_log_.logp bad: -inf\nspatial_13_log_.dlogp bad: [ nan   0.]\nspatial_12_log_.value bad: -inf\nspatial_12_log_.logp bad: -inf\nspatial_12_log_.dlogp bad: [ nan   0.]\nspatial_11_log_.value bad: -inf\nspatial_11_log_.logp bad: -inf\nspatial_11_log_.dlogp bad: [ nan   0.]\nspatial_10_log_.value bad: -inf\nspatial_10_log_.logp bad: -inf\nspatial_10_log_.dlogp bad: [ nan   0.]\nspatial_9_log_.value bad: -inf\nspatial_9_log_.logp bad: -inf\nspatial_9_log_.dlogp bad: [ nan   0.]\nspatial_8_log_.value bad: -inf\nspatial_8_log_.logp bad: -inf\nspatial_8_log_.dlogp bad: [ nan   0.]\nspatial_7_log_.value bad: -inf\nspatial_7_log_.logp bad: -inf\nspatial_7_log_.dlogp bad: [ nan   0.]\nspatial_6_log_.value bad: -inf\nspatial_6_log_.logp bad: -inf\nspatial_6_log_.dlogp bad: [ nan   0.]\nspatial_5_log_.value bad: -inf\nspatial_5_log_.logp bad: -inf\nspatial_5_log_.dlogp bad: [ nan   0.]\nspatial_4_log_.value bad: -inf\nspatial_4_log_.logp bad: -inf\nspatial_4_log_.dlogp bad: [ nan   0.]\nspatial_3_log_.value bad: -inf\nspatial_3_log_.logp bad: -inf\nspatial_3_log_.dlogp bad: [ nan   0.]\nspatial_2_log_.value bad: -inf\nspatial_2_log_.logp bad: -inf\nspatial_2_log_.dlogp bad: [ nan   0.]\nspatial_1_log_.value bad: -inf\nspatial_1_log_.logp bad: -inf\nspatial_1_log_.dlogp bad: [ nan   0.]\nspatial_0_log_.value bad: -inf\nspatial_0_log_.logp bad: -inf\nspatial_0_log_.dlogp bad: [ nan   0.]",
     "output_type": "error",
     "traceback": [
      "\u001b[0;31m---------------------------------------------------------------------------\u001b[0m",
      "\u001b[0;31mValueError\u001b[0m                                Traceback (most recent call last)",
      "\u001b[0;32m<ipython-input-22-af0b05ae9158>\u001b[0m in \u001b[0;36m<module>\u001b[0;34m()\u001b[0m\n\u001b[1;32m      1\u001b[0m \u001b[0;32mwith\u001b[0m \u001b[0mmodel\u001b[0m\u001b[0;34m:\u001b[0m\u001b[0;34m\u001b[0m\u001b[0m\n\u001b[0;32m----> 2\u001b[0;31m     \u001b[0mstart\u001b[0m \u001b[0;34m=\u001b[0m \u001b[0mpm\u001b[0m\u001b[0;34m.\u001b[0m\u001b[0mfind_MAP\u001b[0m\u001b[0;34m(\u001b[0m\u001b[0;34m)\u001b[0m\u001b[0;34m\u001b[0m\u001b[0m\n\u001b[0m",
      "\u001b[0;32m/Users/Mike/anaconda/lib/python3.5/site-packages/pymc3/tuning/starting.py\u001b[0m in \u001b[0;36mfind_MAP\u001b[0;34m(start, vars, fmin, return_raw, model, *args, **kwargs)\u001b[0m\n\u001b[1;32m    151\u001b[0m                          \u001b[0;34m\"density. 2) your distribution logp's are \"\u001b[0m \u001b[0;34m+\u001b[0m\u001b[0;34m\u001b[0m\u001b[0m\n\u001b[1;32m    152\u001b[0m                          \u001b[0;34m\"properly specified. Specific issues: \\n\"\u001b[0m \u001b[0;34m+\u001b[0m\u001b[0;34m\u001b[0m\u001b[0m\n\u001b[0;32m--> 153\u001b[0;31m                          specific_errors)\n\u001b[0m\u001b[1;32m    154\u001b[0m     \u001b[0mmx\u001b[0m \u001b[0;34m=\u001b[0m \u001b[0;34m{\u001b[0m\u001b[0mv\u001b[0m\u001b[0;34m.\u001b[0m\u001b[0mname\u001b[0m\u001b[0;34m:\u001b[0m \u001b[0mmx\u001b[0m\u001b[0;34m[\u001b[0m\u001b[0mv\u001b[0m\u001b[0;34m.\u001b[0m\u001b[0mname\u001b[0m\u001b[0;34m]\u001b[0m\u001b[0;34m.\u001b[0m\u001b[0mastype\u001b[0m\u001b[0;34m(\u001b[0m\u001b[0mv\u001b[0m\u001b[0;34m.\u001b[0m\u001b[0mdtype\u001b[0m\u001b[0;34m)\u001b[0m \u001b[0;32mfor\u001b[0m \u001b[0mv\u001b[0m \u001b[0;32min\u001b[0m \u001b[0mmodel\u001b[0m\u001b[0;34m.\u001b[0m\u001b[0mvars\u001b[0m\u001b[0;34m}\u001b[0m\u001b[0;34m\u001b[0m\u001b[0m\n\u001b[1;32m    155\u001b[0m \u001b[0;34m\u001b[0m\u001b[0m\n",
      "\u001b[0;31mValueError\u001b[0m: Optimization error: max, logp or dlogp at max have non-finite values. Some values may be outside of distribution support. max: {'spatial_4_log_': array(-inf), 'spatial_18_log_': array(-inf), 'spatial_13_log_': array(-inf), 'spatial_3_log_': array(-inf), 'spatial_21_log_': array(-inf), 'spatial_8_log_': array(-inf), 'spatial_10_log_': array(-inf), 'spatial_5_log_': array(-inf), 'spatial_2_log_': array(-inf), 'spatial_14_log_': array(-inf), 'spatial_23_log_': array(-inf), 'spatial_16_log_': array(-inf), 'spatial_29_log_': array(-inf), 'spatial_28_log_': array(-inf), 'spatial_6_log_': array(-inf), 'spatial_15_log_': array(-inf), 'spatial_26_log_': array(-inf), 'spatial_11_log_': array(-inf), 'spatial_9_log_': array(-inf), 'spatial_12_log_': array(-inf), 'spatial_22_log_': array(-inf), 'spatial_27_log_': array(-inf), 'spatial_25_log_': array(-inf), 'spatial_19_log_': array(-inf), 'spatial_1_log_': array(-inf), 'spatial_7_log_': array(-inf), 'spatial_sd': array(0.0), 'spatial_0_log_': array(-inf), 'spatial_24_log_': array(-inf), 'spatial_20_log_': array(-inf), 'spatial_17_log_': array(-inf)} logp: array(-inf) dlogp: array([  0.,  nan,  nan,  nan,  nan,  nan,  nan,  nan,  nan,  nan,  nan,\n        nan,  nan,  nan,  nan,  nan,  nan,  nan,  nan,  nan,  nan,  nan,\n        nan,  nan,  nan,  nan,  nan,  nan,  nan,  nan,  nan])Check that 1) you don't have hierarchical parameters, these will lead to points with infinite density. 2) your distribution logp's are properly specified. Specific issues: \nspatial_29_log_.value bad: -inf\nspatial_29_log_.logp bad: -inf\nspatial_29_log_.dlogp bad: [ nan   0.]\nspatial_28_log_.value bad: -inf\nspatial_28_log_.logp bad: -inf\nspatial_28_log_.dlogp bad: [ nan   0.]\nspatial_27_log_.value bad: -inf\nspatial_27_log_.logp bad: -inf\nspatial_27_log_.dlogp bad: [ nan   0.]\nspatial_26_log_.value bad: -inf\nspatial_26_log_.logp bad: -inf\nspatial_26_log_.dlogp bad: [ nan   0.]\nspatial_25_log_.value bad: -inf\nspatial_25_log_.logp bad: -inf\nspatial_25_log_.dlogp bad: [ nan   0.]\nspatial_24_log_.value bad: -inf\nspatial_24_log_.logp bad: -inf\nspatial_24_log_.dlogp bad: [ nan   0.]\nspatial_23_log_.value bad: -inf\nspatial_23_log_.logp bad: -inf\nspatial_23_log_.dlogp bad: [ nan   0.]\nspatial_22_log_.value bad: -inf\nspatial_22_log_.logp bad: -inf\nspatial_22_log_.dlogp bad: [ nan   0.]\nspatial_21_log_.value bad: -inf\nspatial_21_log_.logp bad: -inf\nspatial_21_log_.dlogp bad: [ nan   0.]\nspatial_20_log_.value bad: -inf\nspatial_20_log_.logp bad: -inf\nspatial_20_log_.dlogp bad: [ nan   0.]\nspatial_19_log_.value bad: -inf\nspatial_19_log_.logp bad: -inf\nspatial_19_log_.dlogp bad: [ nan   0.]\nspatial_18_log_.value bad: -inf\nspatial_18_log_.logp bad: -inf\nspatial_18_log_.dlogp bad: [ nan   0.]\nspatial_17_log_.value bad: -inf\nspatial_17_log_.logp bad: -inf\nspatial_17_log_.dlogp bad: [ nan   0.]\nspatial_16_log_.value bad: -inf\nspatial_16_log_.logp bad: -inf\nspatial_16_log_.dlogp bad: [ nan   0.]\nspatial_15_log_.value bad: -inf\nspatial_15_log_.logp bad: -inf\nspatial_15_log_.dlogp bad: [ nan   0.]\nspatial_14_log_.value bad: -inf\nspatial_14_log_.logp bad: -inf\nspatial_14_log_.dlogp bad: [ nan   0.]\nspatial_13_log_.value bad: -inf\nspatial_13_log_.logp bad: -inf\nspatial_13_log_.dlogp bad: [ nan   0.]\nspatial_12_log_.value bad: -inf\nspatial_12_log_.logp bad: -inf\nspatial_12_log_.dlogp bad: [ nan   0.]\nspatial_11_log_.value bad: -inf\nspatial_11_log_.logp bad: -inf\nspatial_11_log_.dlogp bad: [ nan   0.]\nspatial_10_log_.value bad: -inf\nspatial_10_log_.logp bad: -inf\nspatial_10_log_.dlogp bad: [ nan   0.]\nspatial_9_log_.value bad: -inf\nspatial_9_log_.logp bad: -inf\nspatial_9_log_.dlogp bad: [ nan   0.]\nspatial_8_log_.value bad: -inf\nspatial_8_log_.logp bad: -inf\nspatial_8_log_.dlogp bad: [ nan   0.]\nspatial_7_log_.value bad: -inf\nspatial_7_log_.logp bad: -inf\nspatial_7_log_.dlogp bad: [ nan   0.]\nspatial_6_log_.value bad: -inf\nspatial_6_log_.logp bad: -inf\nspatial_6_log_.dlogp bad: [ nan   0.]\nspatial_5_log_.value bad: -inf\nspatial_5_log_.logp bad: -inf\nspatial_5_log_.dlogp bad: [ nan   0.]\nspatial_4_log_.value bad: -inf\nspatial_4_log_.logp bad: -inf\nspatial_4_log_.dlogp bad: [ nan   0.]\nspatial_3_log_.value bad: -inf\nspatial_3_log_.logp bad: -inf\nspatial_3_log_.dlogp bad: [ nan   0.]\nspatial_2_log_.value bad: -inf\nspatial_2_log_.logp bad: -inf\nspatial_2_log_.dlogp bad: [ nan   0.]\nspatial_1_log_.value bad: -inf\nspatial_1_log_.logp bad: -inf\nspatial_1_log_.dlogp bad: [ nan   0.]\nspatial_0_log_.value bad: -inf\nspatial_0_log_.logp bad: -inf\nspatial_0_log_.dlogp bad: [ nan   0.]"
     ]
    }
   ],
   "source": [
    "with model:\n",
    "    start = pm.find_MAP()"
   ]
  },
  {
   "cell_type": "code",
   "execution_count": null,
   "metadata": {
    "collapsed": true
   },
   "outputs": [],
   "source": []
  }
 ],
 "metadata": {
  "kernelspec": {
   "display_name": "Python 3",
   "language": "python",
   "name": "python3"
  },
  "language_info": {
   "codemirror_mode": {
    "name": "ipython",
    "version": 3
   },
   "file_extension": ".py",
   "mimetype": "text/x-python",
   "name": "python",
   "nbconvert_exporter": "python",
   "pygments_lexer": "ipython3",
   "version": "3.5.2"
  }
 },
 "nbformat": 4,
 "nbformat_minor": 0
}
